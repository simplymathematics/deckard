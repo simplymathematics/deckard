{
 "cells": [
  {
   "cell_type": "code",
   "execution_count": 1,
   "metadata": {},
   "outputs": [],
   "source": [
    "# ! python -m pip install numpy scikit-learn tqdm pandas matplotlib seaborn"
   ]
  },
  {
   "cell_type": "code",
   "execution_count": 2,
   "metadata": {},
   "outputs": [],
   "source": [
    "\"\"\"\n",
    "This is a module toa be used as a reference for building other modules\n",
    "\"\"\"\n",
    "\n",
    "import numpy as np\n",
    "from sklearn.base import BaseEstimator, ClassifierMixin\n",
    "from sklearn.utils.validation import check_is_fitted\n",
    "from sklearn.utils.multiclass import unique_labels\n",
    "from sklearn.metrics import accuracy_score\n",
    "from sklearn.model_selection import train_test_split\n",
    "from sklearn.datasets import make_classification, fetch_20newsgroups\n",
    "from sklearn.preprocessing import LabelEncoder\n",
    "import gzip\n",
    "from tqdm import tqdm\n",
    "from sklearn.preprocessing import LabelEncoder\n",
    "import pandas as pd\n",
    "\n",
    "\n",
    "class GzipClassifier(ClassifierMixin, BaseEstimator):\n",
    "    \"\"\"An example classifier which implements a 1-NN algorithm.\n",
    "\n",
    "    For more information regarding how to build your own classifier, read more\n",
    "    in the :ref:`User Guide <user_guide>`.\n",
    "\n",
    "    Parameters\n",
    "    ----------\n",
    "    demo_param : str, default='demo'\n",
    "        A parameter used for demonstation of how to pass and store paramters.\n",
    "\n",
    "    Attributes\n",
    "    ----------\n",
    "    X_ : ndarray, shape (n_samples, n_features)\n",
    "        The input passed during :meth:`fit`.\n",
    "    y_ : ndarray, shape (n_samples,)\n",
    "        The labels passed during :meth:`fit`.\n",
    "    classes_ : ndarray, shape (n_classes,)\n",
    "        The classes seen at :meth:`fit`.\n",
    "    \"\"\"\n",
    "\n",
    "    def __init__(self, k=3):\n",
    "        self.k = k\n",
    "        self.compressor = \"gzip\"\n",
    "        self._set_compressor()\n",
    "\n",
    "    def fit(self, X, y):\n",
    "        \"\"\"A reference implementation of a fitting function for a classifier.\n",
    "\n",
    "        Parameters\n",
    "        ----------\n",
    "        X : array-like, shape (n_samples, n_features)\n",
    "            The training input samples.\n",
    "        y : array-like, shape (n_samples,)\n",
    "            The target values. An array of int.\n",
    "\n",
    "        Returns\n",
    "        -------\n",
    "        self : object\n",
    "            Returns self.\n",
    "        \"\"\"\n",
    "        # Check that X and y have correct shape\n",
    "        # X, y = check_X_y(X, y)\n",
    "        # Store the classes seen during fit\n",
    "        self.classes_ = unique_labels(y)\n",
    "\n",
    "        self.X_ = X\n",
    "        self.y_ = y\n",
    "        Cxs = []\n",
    "\n",
    "        for x in self.X_:\n",
    "            Cx = self._compress(x)\n",
    "            Cxs.append(Cx)\n",
    "        self.Cx_ = Cxs\n",
    "        # Return the classifier\n",
    "        return self\n",
    "\n",
    "    def _set_compressor(self):\n",
    "        if self.compressor == \"gzip\":\n",
    "            self._compress = self._gzip_compressor\n",
    "        else:\n",
    "            raise NotImplementedError(\n",
    "                f\"Compressing with {self.compressor} not supported.\"\n",
    "            )\n",
    "\n",
    "    def _gzip_compressor(self, x):\n",
    "        return len(gzip.compress(str(x).encode()))\n",
    "\n",
    "    def _ncd(self, Cx1, x1):\n",
    "        distance_from_x1 = []\n",
    "        for x2, Cx2 in zip(self.X_, self.Cx_):\n",
    "            x2 = str(x2)\n",
    "            x1x2 = \" \".join([x1, x2])\n",
    "            Cx1x2 = self._compress(x1x2)\n",
    "            ncd = (Cx1x2 - min(Cx1, Cx2)) / max(Cx1, Cx2)\n",
    "            distance_from_x1.append(ncd)\n",
    "\n",
    "    def predict(self, X):\n",
    "        \"\"\"A reference implementation of a prediction for a classifier.\n",
    "\n",
    "        Parameters\n",
    "        ----------\n",
    "        X : array-like, shape (n_samples, n_features)\n",
    "            The input samples.\n",
    "\n",
    "        Returns\n",
    "        -------\n",
    "        y : ndarray, shape (n_samples,)\n",
    "            The label for each sample is the label of the closest sample\n",
    "            seen during fit.\n",
    "        \"\"\"\n",
    "        # Check is fit had been called\n",
    "        check_is_fitted(self, [\"X_\", \"y_\", \"Cx_\", \"_compress\"])\n",
    "\n",
    "        # Input validation\n",
    "        # X = check_array(X)\n",
    "        results = []\n",
    "        for x1 in tqdm(X, desc=\"Predicting...\", leave=False):\n",
    "            x1 = str(x1)\n",
    "            Cx1 = self._compress(x1)\n",
    "            distance_from_x1 = []\n",
    "            for x2, Cx2 in zip(self.X_, self.Cx_):\n",
    "                x2 = str(x2)\n",
    "                x1x2 = \" \".join([x1, x2])\n",
    "                Cx1x2 = self._compress(x1x2)\n",
    "                ncd = (Cx1x2 - min(Cx1, Cx2)) / max(Cx1, Cx2)\n",
    "                distance_from_x1.append(ncd)\n",
    "            # distance_from_x1 = self._ncd(Cx1, x1)\n",
    "            sorted_idx = np.argsort(np.array(distance_from_x1))\n",
    "            top_k_class = list(self.y_[sorted_idx[: self.k]])\n",
    "            predict_class = max(set(top_k_class), key=top_k_class.count)\n",
    "            results.append(predict_class)\n",
    "        return results"
   ]
  },
  {
   "cell_type": "code",
   "execution_count": 3,
   "metadata": {},
   "outputs": [
    {
     "name": "stderr",
     "output_type": "stream",
     "text": [
      "                                                                "
     ]
    },
    {
     "name": "stdout",
     "output_type": "stream",
     "text": [
      "\n",
      "Accuracy score is: 0.912\n"
     ]
    },
    {
     "name": "stderr",
     "output_type": "stream",
     "text": [
      "\r"
     ]
    }
   ],
   "source": [
    "# Newsgroup Data\n",
    "\n",
    "X, y = fetch_20newsgroups(\n",
    "    subset=\"train\",\n",
    "    categories=[\"alt.atheism\", \"talk.religion.misc\"],\n",
    "    shuffle=True,\n",
    "    random_state=42,\n",
    "    return_X_y=True,\n",
    ")\n",
    "y = LabelEncoder().fit(y).transform(y)\n",
    "X_train, X_test, y_train, y_test = train_test_split(X, y)\n",
    "newsgroup_model = GzipClassifier(k=3)\n",
    "newsgroup_model.fit(X_train, y_train)\n",
    "preds = newsgroup_model.predict(X_test)\n",
    "print()\n",
    "print(f\"Accuracy score is: {round(accuracy_score(y_test, preds), 3)}\")"
   ]
  },
  {
   "cell_type": "code",
   "execution_count": 4,
   "metadata": {},
   "outputs": [
    {
     "name": "stdout",
     "output_type": "stream",
     "text": [
      "Shape of df: (125973, 43)\n",
      "Shape of y: (125973,)\n",
      "Shape of X: (125973, 42)\n",
      "Set of labels: {0, 1}\n",
      "Shape of X_train: (1000, 42)\n",
      "Shape of X_test: (100, 42)\n"
     ]
    },
    {
     "name": "stderr",
     "output_type": "stream",
     "text": [
      "                                                                "
     ]
    },
    {
     "name": "stdout",
     "output_type": "stream",
     "text": [
      "KDD-NSL\n",
      "Accuracy score is: 0.97\n"
     ]
    },
    {
     "name": "stderr",
     "output_type": "stream",
     "text": [
      "\r"
     ]
    }
   ],
   "source": [
    "# KDD\n",
    "\n",
    "df = pd.read_csv(\n",
    "    \"https://gist.githubusercontent.com/simplymathematics/8c6c04bd151950d5ea9e62825db97fdd/raw/34e546e4813f154d11d4f13869b9e3481fc3e829/kdd-nsl.csv\",\n",
    "    header=None,\n",
    ")\n",
    "print(\"Shape of df:\", df.shape)\n",
    "width = df.shape[1]\n",
    "y = df[width - 2]\n",
    "print(\"Shape of y:\", y.shape)\n",
    "del df[width - 2]\n",
    "X = np.array(df)\n",
    "print(\"Shape of X:\", X.shape)\n",
    "del df\n",
    "new_y = []\n",
    "for entry in y:\n",
    "    if entry == \"normal\":\n",
    "        new_y.append(0)\n",
    "    else:\n",
    "        new_y.append(1)\n",
    "y = LabelEncoder().fit(new_y).transform(new_y)\n",
    "print(f\"Set of labels: {set(y)}\")\n",
    "X_train, X_test, y_train, y_test = train_test_split(\n",
    "    X, y, train_size=1000, test_size=100\n",
    ")\n",
    "print(\"Shape of X_train:\", X_train.shape)\n",
    "print(\"Shape of X_test:\", X_test.shape)\n",
    "kdd_model = GzipClassifier(k=3)\n",
    "kdd_model.fit(X_train, y_train)\n",
    "predictions = kdd_model.predict(X_test)\n",
    "print(\"KDD-NSL\")\n",
    "print(f\"Accuracy score is: {round(accuracy_score(y_test, predictions), 3)}\")"
   ]
  },
  {
   "cell_type": "code",
   "execution_count": 5,
   "metadata": {},
   "outputs": [
    {
     "name": "stdout",
     "output_type": "stream",
     "text": [
      "Shape of df: (134198, 64)\n",
      "Shape of y: (134198,)\n",
      "Shape of X: (134198, 62)\n",
      "Set of labels: {0, 1}\n",
      "Shape of X_train: (1000, 62)\n",
      "Shape of X_test: (100, 62)\n"
     ]
    },
    {
     "name": "stderr",
     "output_type": "stream",
     "text": [
      "                                                                "
     ]
    },
    {
     "name": "stdout",
     "output_type": "stream",
     "text": [
      "Truthseeker\n",
      "Accuracy score is: 0.95\n"
     ]
    },
    {
     "name": "stderr",
     "output_type": "stream",
     "text": [
      "\r"
     ]
    }
   ],
   "source": [
    "# Truthseeker\n",
    "\n",
    "df = pd.read_csv(\n",
    "    \"https://gist.githubusercontent.com/simplymathematics/8c6c04bd151950d5ea9e62825db97fdd/raw/34e546e4813f154d11d4f13869b9e3481fc3e829/truthseeker.csv\"\n",
    ")\n",
    "print(\"Shape of df:\", df.shape)\n",
    "y = np.array(df[\"BotScoreBinary\"].astype(\"int\"))\n",
    "print(\"Shape of y:\", y.shape)\n",
    "del df[\"BotScoreBinary\"]\n",
    "del df[\"BotScore\"]\n",
    "X = np.array(df)\n",
    "print(\"Shape of X:\", X.shape)\n",
    "print(f\"Set of labels: {set(y)}\")\n",
    "X_train, X_test, y_train, y_test = train_test_split(\n",
    "    X, y, train_size=1000, test_size=100\n",
    ")\n",
    "print(\"Shape of X_train:\", X_train.shape)\n",
    "print(\"Shape of X_test:\", X_test.shape)\n",
    "truthseeker_model = GzipClassifier(k=7)\n",
    "truthseeker_model.fit(X_train, y_train)\n",
    "predictions = truthseeker_model.predict(X_test)\n",
    "print(\"Truthseeker\")\n",
    "print(f\"Accuracy score is: {round(accuracy_score(y_test, predictions), 3)}\")"
   ]
  },
  {
   "cell_type": "code",
   "execution_count": 6,
   "metadata": {},
   "outputs": [
    {
     "name": "stderr",
     "output_type": "stream",
     "text": [
      "                                                                "
     ]
    },
    {
     "name": "stdout",
     "output_type": "stream",
     "text": [
      "\n",
      "Accuracy score is: 0.552\n"
     ]
    },
    {
     "name": "stderr",
     "output_type": "stream",
     "text": [
      "\r"
     ]
    }
   ],
   "source": [
    "# Make Classification Data\n",
    "\n",
    "\n",
    "X, y = make_classification(\n",
    "    n_classes=3,\n",
    "    n_features=10,\n",
    "    n_informative=10,\n",
    "    n_redundant=0,\n",
    "    n_samples=1000,\n",
    "    n_clusters_per_class=1,\n",
    "    class_sep=10,\n",
    ")\n",
    "y = LabelEncoder().fit(y).transform(y)\n",
    "X_train, X_test, y_train, y_test = train_test_split(X, y)\n",
    "model = GzipClassifier(k=1)\n",
    "model.fit(X_train, y_train)\n",
    "predictions = model.predict(X_test)\n",
    "print()\n",
    "print(f\"Accuracy score is: {round(accuracy_score(y_test, predictions), 3)}\")"
   ]
  },
  {
   "cell_type": "code",
   "execution_count": 30,
   "metadata": {},
   "outputs": [
    {
     "name": "stdout",
     "output_type": "stream",
     "text": [
      "Model is BaseEstimator: True\n"
     ]
    }
   ],
   "source": [
    "# ART setup\n",
    "from art.attacks.evasion import HopSkipJump, ZooAttack\n",
    "from art.estimators.classification import SklearnClassifier\n",
    "\n",
    "print(\"Model is BaseEstimator:\", isinstance(model, BaseEstimator))\n",
    "classifier = SklearnClassifier(model=model)\n",
    "classifier._input_shape = X_train[0].shape\n",
    "classifier._nb_classes = len(np.unique(y_train))"
   ]
  },
  {
   "cell_type": "code",
   "execution_count": 31,
   "metadata": {},
   "outputs": [
    {
     "name": "stdout",
     "output_type": "stream",
     "text": [
      "(10,)\n"
     ]
    }
   ],
   "source": [
    "print(classifier._input_shape)"
   ]
  },
  {
   "cell_type": "code",
   "execution_count": 38,
   "metadata": {},
   "outputs": [
    {
     "name": "stdout",
     "output_type": "stream",
     "text": [
      "Attack initialized.\n"
     ]
    },
    {
     "name": "stderr",
     "output_type": "stream",
     "text": [
      "HopSkipJump: 100%|██████████| 100/100 [04:57<00:00,  2.98s/it]  \n",
      "                                                                \r"
     ]
    },
    {
     "name": "stdout",
     "output_type": "stream",
     "text": [
      "Adversarial examples generated.\n"
     ]
    },
    {
     "name": "stderr",
     "output_type": "stream",
     "text": [
      "                                                                "
     ]
    },
    {
     "name": "stdout",
     "output_type": "stream",
     "text": [
      "HopSkipJump\n",
      "Accuracy score is: 0.37\n",
      "Attack Success score is: 0.35\n"
     ]
    },
    {
     "name": "stderr",
     "output_type": "stream",
     "text": [
      "\r"
     ]
    }
   ],
   "source": [
    "# Evasion Attack: HopSkipJump\n",
    "n = 100\n",
    "attack = HopSkipJump(\n",
    "    classifier=classifier,\n",
    "    targeted=False,\n",
    "    norm=2,\n",
    "    max_iter=1,\n",
    "    max_eval=1,\n",
    "    init_eval=1,\n",
    "    init_size=1,\n",
    ")\n",
    "print(\"Attack initialized.\")\n",
    "advs = attack.generate(x=X_test[:n])\n",
    "print(\"Adversarial examples generated.\")\n",
    "adv_preds = model.predict(advs)\n",
    "print(\"HopSkipJump\")\n",
    "print(f\"Accuracy score is: {round(accuracy_score(y_test[:n], adv_preds), 3)}\")\n",
    "print(\n",
    "    f\"Attack Success score is: {round(accuracy_score(predictions[:n], adv_preds), 3)}\"\n",
    ")"
   ]
  },
  {
   "cell_type": "code",
   "execution_count": 39,
   "metadata": {},
   "outputs": [
    {
     "name": "stderr",
     "output_type": "stream",
     "text": [
      "ZOO: 100%|██████████| 100/100 [01:00<00:00,  1.66it/s]          \n",
      "                                                                "
     ]
    },
    {
     "name": "stdout",
     "output_type": "stream",
     "text": [
      "ZooAttack\n",
      "Accuracy score is: 0.54\n",
      "Attack Success score is: 0.96\n"
     ]
    },
    {
     "name": "stderr",
     "output_type": "stream",
     "text": [
      "\r"
     ]
    }
   ],
   "source": [
    "# Evasion Attack: ZooAttack\n",
    "attack = ZooAttack(\n",
    "    classifier=classifier,\n",
    "    confidence=0.9,\n",
    "    targeted=False,\n",
    "    learning_rate=1e-1,\n",
    "    max_iter=1,\n",
    "    binary_search_steps=1,\n",
    "    initial_const=1e-3,\n",
    "    abort_early=True,\n",
    "    use_resize=False,\n",
    "    use_importance=False,\n",
    "    nb_parallel=1,\n",
    "    batch_size=1,\n",
    "    variable_h=0.01,\n",
    ")\n",
    "advs = attack.generate(x=X_test[:n])\n",
    "adv_preds = model.predict(advs)\n",
    "print(\"ZooAttack\")\n",
    "print(f\"Accuracy score is: {round(accuracy_score(y_test[:n], adv_preds), 3)}\")\n",
    "print(\n",
    "    f\"Attack Success score is: {round(accuracy_score(predictions[:n], adv_preds), 3)}\"\n",
    ")"
   ]
  },
  {
   "cell_type": "code",
   "execution_count": 34,
   "metadata": {},
   "outputs": [],
   "source": [
    "# from art.attacks.inference.attribute_inference import AttributeInferenceBlackBox\n",
    "# n = 10\n",
    "# attack_feature = 1\n",
    "# attack = AttributeInferenceBlackBox(classifier)\n",
    "# attack.fit(X_train[:n])\n",
    "# predictions = np.array(predictions)"
   ]
  },
  {
   "cell_type": "code",
   "execution_count": 27,
   "metadata": {},
   "outputs": [
    {
     "data": {
      "text/plain": [
       "dict_keys(['_targeted', '_estimator', '_summary_writer_arg', '_summary_writer', 'norm', 'max_iter', 'max_eval', 'init_eval', 'init_size', 'curr_iter', 'batch_size', 'verbose', 'theta'])"
      ]
     },
     "execution_count": 27,
     "metadata": {},
     "output_type": "execute_result"
    }
   ],
   "source": [
    "# vars(attack).keys()"
   ]
  },
  {
   "cell_type": "code",
   "execution_count": 35,
   "metadata": {},
   "outputs": [],
   "source": [
    "# attack_result = attack.infer(X_test[:n], y_test[:n], pred=predictions[:n])"
   ]
  },
  {
   "cell_type": "code",
   "execution_count": 36,
   "metadata": {},
   "outputs": [],
   "source": [
    "# from art.attacks.inference.membership_inference import MembershipInferenceBlackBox"
   ]
  }
 ],
 "metadata": {
  "kernelspec": {
   "display_name": ".venv",
   "language": "python",
   "name": "python3"
  },
  "language_info": {
   "codemirror_mode": {
    "name": "ipython",
    "version": 3
   },
   "file_extension": ".py",
   "mimetype": "text/x-python",
   "name": "python",
   "nbconvert_exporter": "python",
   "pygments_lexer": "ipython3",
   "version": "3.10.7"
  }
 },
 "nbformat": 4,
 "nbformat_minor": 2
}
